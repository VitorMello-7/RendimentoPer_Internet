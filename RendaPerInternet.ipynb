{
 "cells": [
  {
   "cell_type": "code",
   "id": "initial_id",
   "metadata": {
    "collapsed": true,
    "ExecuteTime": {
     "end_time": "2024-09-27T14:53:42.351624Z",
     "start_time": "2024-09-27T14:53:42.348557Z"
    }
   },
   "source": [
    "import locale\n",
    "import pandas as pd\n",
    "import sidrapy\n",
    "import seaborn as sns\n",
    "import matplotlib.pyplot as plt"
   ],
   "outputs": [],
   "execution_count": 24
  },
  {
   "metadata": {
    "ExecuteTime": {
     "end_time": "2024-09-27T14:53:42.693335Z",
     "start_time": "2024-09-27T14:53:42.396464Z"
    }
   },
   "cell_type": "code",
   "source": [
    "data = sidrapy.get_table(table_code='7419',\n",
    "                         territorial_level=\"3\",\n",
    "                         ibge_territorial_code=\"all\",\n",
    "                         variable=\"4705\",\n",
    "                         classifications={\"680\": \"33216\"})"
   ],
   "id": "6d90661b428b194b",
   "outputs": [],
   "execution_count": 25
  },
  {
   "metadata": {
    "ExecuteTime": {
     "end_time": "2024-09-27T14:53:42.719402Z",
     "start_time": "2024-09-27T14:53:42.714447Z"
    }
   },
   "cell_type": "code",
   "source": [
    "df = pd.DataFrame(data)\n",
    "#data.columns = data.iloc[0]\n",
    "df = data.iloc[1:, [6 , 4, 12]]\n",
    "print(df.head())"
   ],
   "id": "a087aae118d5a995",
   "outputs": [
    {
     "name": "stdout",
     "output_type": "stream",
     "text": [
      "        D1N     V   D4N\n",
      "1  Rondônia  1912  2021\n",
      "2      Acre  2234  2021\n",
      "3  Amazonas  1864  2021\n",
      "4   Roraima  2208  2021\n",
      "5      Pará  2180  2021\n"
     ]
    }
   ],
   "execution_count": 26
  },
  {
   "metadata": {
    "ExecuteTime": {
     "end_time": "2024-09-27T14:53:42.780889Z",
     "start_time": "2024-09-27T14:53:42.774662Z"
    }
   },
   "cell_type": "code",
   "source": [
    "df.columns = ['Estado', 'Utilizaram Notebook', 'Ano']\n",
    "locale.setlocale(locale.LC_ALL, 'pt_BR.UTF-8')\n",
    "df['Utilizaram Notebook'] = df['Utilizaram Notebook'].astype('float64')\n",
    "df['Utilizaram Notebook'] = [locale.format_string('%d', pop, grouping=True) for pop in df['Utilizaram Notebook']]\n",
    "print(df.head())"
   ],
   "id": "626a33a56fcfac3c",
   "outputs": [
    {
     "name": "stdout",
     "output_type": "stream",
     "text": [
      "     Estado Utilizaram Notebook   Ano\n",
      "1  Rondônia               1.912  2021\n",
      "2      Acre               2.234  2021\n",
      "3  Amazonas               1.864  2021\n",
      "4   Roraima               2.208  2021\n",
      "5      Pará               2.180  2021\n"
     ]
    }
   ],
   "execution_count": 27
  },
  {
   "metadata": {
    "ExecuteTime": {
     "end_time": "2024-09-27T14:53:42.910297Z",
     "start_time": "2024-09-27T14:53:42.899772Z"
    }
   },
   "cell_type": "code",
   "source": [
    "df['Utilizaram Notebook'] = pd.to_numeric(df['Utilizaram Notebook'], errors='coerce')\n",
    "mUsers = df.nlargest(5, 'Utilizaram Notebook')\n",
    "print(mUsers.head())"
   ],
   "id": "1f691ce73c5a2cbe",
   "outputs": [
    {
     "name": "stdout",
     "output_type": "stream",
     "text": [
      "               Estado  Utilizaram Notebook   Ano\n",
      "27   Distrito Federal                3.802  2021\n",
      "19     Rio de Janeiro                2.999  2021\n",
      "20          São Paulo                2.811  2021\n",
      "23  Rio Grande do Sul                2.649  2021\n",
      "22     Santa Catarina                2.567  2021\n"
     ]
    }
   ],
   "execution_count": 28
  },
  {
   "metadata": {
    "ExecuteTime": {
     "end_time": "2024-09-27T14:53:43.311282Z",
     "start_time": "2024-09-27T14:53:43.154461Z"
    }
   },
   "cell_type": "code",
   "source": "sns.barplot(x=mUsers['Utilizaram Notebook'], y=mUsers['Estado'], alpha=1.0)",
   "id": "c87275ea5e385dd0",
   "outputs": [
    {
     "data": {
      "text/plain": [
       "<Axes: xlabel='Utilizaram Notebook', ylabel='Estado'>"
      ]
     },
     "execution_count": 30,
     "metadata": {},
     "output_type": "execute_result"
    },
    {
     "data": {
      "text/plain": [
       "<Figure size 640x480 with 1 Axes>"
      ],
      "image/png": "[encoded data removed]"
     },
     "metadata": {},
     "output_type": "display_data"
    }
   ],
   "execution_count": 30
  }
 ],
 "metadata": {
  "kernelspec": {
   "display_name": "Python 3",
   "language": "python",
   "name": "python3"
  },
  "language_info": {
   "codemirror_mode": {
    "name": "ipython",
    "version": 2
   },
   "file_extension": ".py",
   "mimetype": "text/x-python",
   "name": "python",
   "nbconvert_exporter": "python",
   "pygments_lexer": "ipython2",
   "version": "2.7.6"
  }
 },
 "nbformat": 4,
 "nbformat_minor": 5
}
